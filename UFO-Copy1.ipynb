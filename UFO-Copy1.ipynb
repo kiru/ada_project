{
 "cells": [
  {
   "cell_type": "markdown",
   "metadata": {},
   "source": [
    "# UFO"
   ]
  },
  {
   "cell_type": "markdown",
   "metadata": {},
   "source": [
    "<font color='#660066'>\n",
    "   \n",
    "### Table of Contents\n",
    "\n",
    "- [Data](#Data)\n",
    "    - [Scraping from UFORC](#Scraping-from-UFORC)\n",
    "    - [Data Format](#data_format)\n",
    "    - [Cleaing Data](#cleaning_pdata)\n",
    "- [Basic anlayis](#Basic-Anylsis)\n",
    "- [Milestone 3](#milestones)"
   ]
  },
  {
   "cell_type": "code",
   "execution_count": null,
   "metadata": {},
   "outputs": [],
   "source": [
    "%load_ext autoreload\n",
    "%autoreload 2\n",
    "import json\n",
    "from scraping import fetch_shape_urls,  \\\n",
    "                     fetch_all_sighting_urls, \\\n",
    "                     store_to_json, \\\n",
    "                     build_report_da.taframe\n",
    "from postprocessing import get_time_of_occurrence, \\\n",
    "                           to_datetime_add_year, \\\n",
    "                           replace_empty_with_nan, \\\n",
    "                           distribution_histogram \\"
   ]
  },
  {
   "cell_type": "markdown",
   "metadata": {},
   "source": [
    "<font color='#660066'>\n",
    "   \n",
    "# Data\n",
    "\n",
    "## Scraping from UFORC\n",
    "\n",
    "The National UFO Reporting Center (**NUFORC**) lists reports splitted by the occured date, by posting date, by shape or by location. These sightings has been collected since 1974. NUFORC provides a [Hotline](http://www.nuforc.org/Report.html) or [web formular]() to submit the UFO encounters. These reports are checked for hoax and fake reporst, according to [several reports](https://www.reddit.com/r/UFOs/comments/6h5jfc/nuforc_filters_their_reports_much_better_than/). The sightings also include articles from news papers and historical accounts.\n",
    "\n",
    "We decided to scrape the data from their web page using the *request* and *beatifulsoup* libraries. \n",
    "\n",
    "The first step to fetch all the possible shapes and then we can fetch all the urls from each of the shape. \n",
    "\n"
   ]
  },
  {
   "cell_type": "code",
   "execution_count": 2,
   "metadata": {},
   "outputs": [
    {
     "data": {
      "application/vnd.jupyter.widget-view+json": {
       "model_id": "cc4761a829614941ac0d687aeb113a20",
       "version_major": 2,
       "version_minor": 0
      },
      "text/plain": [
       "HBox(children=(IntProgress(value=0, max=31), HTML(value='')))"
      ]
     },
     "metadata": {},
     "output_type": "display_data"
    },
    {
     "name": "stdout",
     "output_type": "stream",
     "text": [
      "\n"
     ]
    }
   ],
   "source": [
    "all_shapes = fetch_shape_urls()\n",
    "all_reporting_urls = fetch_all_sighting_urls(all_shapes)"
   ]
  },
  {
   "cell_type": "markdown",
   "metadata": {},
   "source": [
    "<font color='#660066'>\n",
    "\n",
    "Let's see how many shapes and reportings there are: "
   ]
  },
  {
   "cell_type": "code",
   "execution_count": 124,
   "metadata": {},
   "outputs": [
    {
     "name": "stdout",
     "output_type": "stream",
     "text": [
      "Number of shapes: 31\n",
      "Nubmer of sighting: 117560\n"
     ]
    }
   ],
   "source": [
    "print(\"Number of shapes:\", len(all_shapes))\n",
    "print(\"Nubmer of sighting:\", len(all_reporting_urls))"
   ]
  },
  {
   "cell_type": "markdown",
   "metadata": {},
   "source": [
    "<font color='#660066'>\n",
    "\n",
    "We don't want to constantly send requests to the server, therefore store the file in urls in a json file. "
   ]
  },
  {
   "cell_type": "code",
   "execution_count": 3,
   "metadata": {},
   "outputs": [],
   "source": [
    "file_name = 'full_list_of_urls.json'\n",
    "store_to_json(all_reporting_urls, file_name)"
   ]
  },
  {
   "cell_type": "code",
   "execution_count": 4,
   "metadata": {},
   "outputs": [],
   "source": [
    "# import href list of each report\n",
    "with open(file_name) as train_file:\n",
    "    href_data = json.load(train_file)\n",
    "urls_to_read = href_data['url']['0']"
   ]
  },
  {
   "cell_type": "markdown",
   "metadata": {},
   "source": [
    "<font color='#660066'>\n",
    "\n",
    "Now we are ready to fetch all the reports and convert it to a Pandas Dataframe."
   ]
  },
  {
   "cell_type": "code",
   "execution_count": null,
   "metadata": {},
   "outputs": [
    {
     "data": {
      "application/vnd.jupyter.widget-view+json": {
       "model_id": "d37cea0313c0455d8efb9bbf804e9854",
       "version_major": 2,
       "version_minor": 0
      },
      "text/plain": [
       "HBox(children=(IntProgress(value=0, max=117560), HTML(value='')))"
      ]
     },
     "metadata": {},
     "output_type": "display_data"
    },
    {
     "name": "stdout",
     "output_type": "stream",
     "text": [
      "Could not fetch  http://www.nuforc.org/webreports/116/S116180.html\n",
      "Could not fetch  http://www.nuforc.org/webreports/026/S26853.html\n",
      "Could not fetch  http://www.nuforc.org/webreports/128/S128991.html\n",
      "Could not fetch  http://www.nuforc.org/webreports/129/S129006.html\n",
      "Could not fetch  http://www.nuforc.org/webreports/035/S35193.html\n",
      "Could not fetch  http://www.nuforc.org/webreports/090/S90490.html\n",
      "Could not fetch  http://www.nuforc.org/webreports/089/S89220.html\n",
      "Could not fetch  http://www.nuforc.org/webreports/042/S42582.html\n",
      "Could not fetch  http://www.nuforc.org/webreports/036/S36881.html\n",
      "Could not fetch  http://www.nuforc.org/webreports/116/S116243.html\n",
      "Could not fetch  http://www.nuforc.org/webreports/128/S128976.html\n",
      "Could not fetch  http://www.nuforc.org/webreports/129/S129008.html\n",
      "Could not fetch  http://www.nuforc.org/webreports/129/S129004.html\n",
      "Could not fetch  http://www.nuforc.org/webreports/129/S129011.html\n",
      "Could not fetch  http://www.nuforc.org/webreports/128/S128975.html\n",
      "Could not fetch  http://www.nuforc.org/webreports/128/S128979.html\n",
      "Could not fetch  http://www.nuforc.org/webreports/116/S116181.html\n",
      "Could not fetch  http://www.nuforc.org/webreports/111/S111170.html\n",
      "Could not fetch  http://www.nuforc.org/webreports/110/S110925.html\n",
      "Could not fetch  http://www.nuforc.org/webreports/090/S90486.html\n",
      "Could not fetch  http://www.nuforc.org/webreports/075/S75170.html\n",
      "Could not fetch  http://www.nuforc.org/webreports/019/S19572.html\n",
      "Could not fetch  http://www.nuforc.org/webreports/075/S75330.html\n",
      "Could not fetch  http://www.nuforc.org/webreports/128/S128995.html\n",
      "Could not fetch  http://www.nuforc.org/webreports/116/S116337.html\n",
      "Could not fetch  http://www.nuforc.org/webreports/116/S116451.html\n",
      "Could not fetch  http://www.nuforc.org/webreports/090/S90487.html\n",
      "Could not fetch  http://www.nuforc.org/webreports/014/S14101.html\n",
      "Could not fetch  http://www.nuforc.org/webreports/004/S04994.html\n",
      "Could not fetch  http://www.nuforc.org/webreports/042/S42934.html\n",
      "Could not fetch  http://www.nuforc.org/webreports/090/S90493.html\n",
      "Could not fetch  http://www.nuforc.org/webreports/128/S128983.html\n",
      "Could not fetch  http://www.nuforc.org/webreports/116/S116518.html\n",
      "Could not fetch  http://www.nuforc.org/webreports/116/S116435.html\n",
      "Could not fetch  http://www.nuforc.org/webreports/108/S108573.html\n",
      "Could not fetch  http://www.nuforc.org/webreports/090/S90495.html\n",
      "Could not fetch  http://www.nuforc.org/webreports/090/S90491.html\n",
      "Could not fetch  http://www.nuforc.org/webreports/090/S90489.html\n",
      "Could not fetch  http://www.nuforc.org/webreports/088/S88100.html\n",
      "Could not fetch  http://www.nuforc.org/webreports/079/S79225.html\n",
      "Could not fetch  http://www.nuforc.org/webreports/025/S25864.html\n",
      "Could not fetch  http://www.nuforc.org/webreports/036/S36103.html\n",
      "Could not fetch  http://www.nuforc.org/webreports/116/S116274.html\n",
      "Could not fetch  http://www.nuforc.org/webreports/129/S129027.html\n",
      "Could not fetch  http://www.nuforc.org/webreports/033/S33443.html\n",
      "Could not fetch  http://www.nuforc.org/webreports/128/S128987.html\n",
      "Could not fetch  http://www.nuforc.org/webreports/128/S128996.html\n",
      "Could not fetch  http://www.nuforc.org/webreports/128/S128984.html\n",
      "Could not fetch  http://www.nuforc.org/webreports/129/S129010.html\n",
      "Could not fetch  http://www.nuforc.org/webreports/129/S129000.html\n",
      "Could not fetch  http://www.nuforc.org/webreports/129/S129017.html\n",
      "Could not fetch  http://www.nuforc.org/webreports/128/S128989.html\n",
      "Could not fetch  http://www.nuforc.org/webreports/128/S128992.html\n",
      "Could not fetch  http://www.nuforc.org/webreports/128/S128982.html\n",
      "Could not fetch  http://www.nuforc.org/webreports/128/S128977.html\n",
      "Could not fetch  http://www.nuforc.org/webreports/116/S116346.html\n",
      "Could not fetch  http://www.nuforc.org/webreports/116/S116422.html\n",
      "Could not fetch  http://www.nuforc.org/webreports/111/S111221.html\n",
      "Could not fetch  http://www.nuforc.org/webreports/111/S111165.html\n",
      "Could not fetch  http://www.nuforc.org/webreports/090/S90494.html\n",
      "Could not fetch  http://www.nuforc.org/webreports/075/S75172.html\n",
      "Could not fetch  http://www.nuforc.org/webreports/075/S75171.html\n",
      "Could not fetch  http://www.nuforc.org/webreports/058/S58467.html\n",
      "Could not fetch  http://www.nuforc.org/webreports/036/S36880.html\n",
      "Could not fetch  http://www.nuforc.org/webreports/033/S33439.html\n",
      "Could not fetch  http://www.nuforc.org/webreports/018/S18798.html\n",
      "Could not fetch  http://www.nuforc.org/webreports/128/S128980.html\n",
      "Could not fetch  http://www.nuforc.org/webreports/128/S128986.html\n",
      "Could not fetch  http://www.nuforc.org/webreports/116/S116327.html\n",
      "Could not fetch  http://www.nuforc.org/webreports/116/S116272.html\n",
      "Could not fetch  http://www.nuforc.org/webreports/039/S39741.html\n",
      "Could not fetch  http://www.nuforc.org/webreports/042/S42002.html\n",
      "Could not fetch  http://www.nuforc.org/webreports/018/S18796.html\n",
      "Could not fetch  http://www.nuforc.org/webreports/008/S08653.html\n",
      "Could not fetch  http://www.nuforc.org/webreports/067/S67785.html\n",
      "Could not fetch  http://www.nuforc.org/webreports/036/S36882.html\n",
      "Could not fetch  http://www.nuforc.org/webreports/036/S36883.html\n",
      "Could not fetch  http://www.nuforc.org/webreports/033/S33440.html\n",
      "Could not fetch  http://www.nuforc.org/webreports/033/S33442.html\n",
      "Could not fetch  http://www.nuforc.org/webreports/129/S129029.html\n",
      "Could not fetch  http://www.nuforc.org/webreports/116/S116388.html\n",
      "Could not fetch  http://www.nuforc.org/webreports/116/S116287.html\n",
      "Could not fetch  http://www.nuforc.org/webreports/042/S42585.html\n",
      "Could not fetch  http://www.nuforc.org/webreports/116/S116322.html\n",
      "Could not fetch  http://www.nuforc.org/webreports/128/S128994.html\n",
      "Could not fetch  http://www.nuforc.org/webreports/129/S129009.html\n",
      "Could not fetch  http://www.nuforc.org/webreports/129/S129005.html\n",
      "Could not fetch  http://www.nuforc.org/webreports/129/S129007.html\n",
      "Could not fetch  http://www.nuforc.org/webreports/090/S90492.html\n",
      "Could not fetch  http://www.nuforc.org/webreports/088/S88105.html\n",
      "Could not fetch  http://www.nuforc.org/webreports/033/S33444.html\n",
      "Could not fetch  http://www.nuforc.org/webreports/033/S33441.html\n",
      "Could not fetch  http://www.nuforc.org/webreports/042/S42583.html\n",
      "Could not fetch  http://www.nuforc.org/webreports/128/S128978.html\n",
      "Could not fetch  http://www.nuforc.org/webreports/129/S129018.html\n",
      "Could not fetch  http://www.nuforc.org/webreports/116/S116245.html\n",
      "Could not fetch  http://www.nuforc.org/webreports/116/S116246.html\n",
      "Could not fetch  http://www.nuforc.org/webreports/116/S116170.html\n",
      "Could not fetch  http://www.nuforc.org/webreports/116/S116284.html\n",
      "Could not fetch  http://www.nuforc.org/webreports/057/S57055.html\n",
      "Could not fetch  http://www.nuforc.org/webreports/040/S40895.html\n",
      "Could not fetch  http://www.nuforc.org/webreports/030/S30727.html\n",
      "Could not fetch  http://www.nuforc.org/webreports/035/S35101.html\n",
      "Could not fetch  http://www.nuforc.org/webreports/029/S29124.html\n",
      "Could not fetch  http://www.nuforc.org/webreports/003/S03952.html\n"
     ]
    }
   ],
   "source": [
    "%%time\n",
    "df_reports = build_report_dataframe(urls_to_read)"
   ]
  },
  {
   "cell_type": "code",
   "execution_count": null,
   "metadata": {},
   "outputs": [],
   "source": [
    "df_reports.to_json(\"all_sightings.json\")"
   ]
  },
  {
   "cell_type": "markdown",
   "metadata": {},
   "source": [
    "<font color='#660066'>\n",
    "\n",
    "The whole scraping process took more than 1h. I norder"
   ]
  },
  {
   "cell_type": "code",
   "execution_count": null,
   "metadata": {},
   "outputs": [],
   "source": [
    "df_reports = pd.read_json('all_sightings.json')\n",
    "\n",
    "df_reports.sample(1).head()"
   ]
  },
  {
   "cell_type": "markdown",
   "metadata": {},
   "source": [
    "<font color='#660066'>\n",
    "   \n",
    "The data contains the following columns: \n",
    "\n",
    "- Occurred\n",
    "- Reported\n",
    "- Posted\n",
    "- Location\n",
    "- Shape\n",
    "- Duration\n",
    "- Summary\n",
    "\n",
    "The following sections analyze these data throughly. "
   ]
  },
  {
   "cell_type": "markdown",
   "metadata": {},
   "source": [
    "<font color='#660066'>\n",
    "    \n",
    "## Cleaning data\n",
    "\n",
    "Let's see how many are not fetched:"
   ]
  },
  {
   "cell_type": "code",
   "execution_count": null,
   "metadata": {},
   "outputs": [],
   "source": [
    "not_found_reports = df_reports[pd.isnull(df_reports.Summary)]\n",
    "print(\"Not found reports\", not_found_reports.count()['url'])"
   ]
  },
  {
   "cell_type": "markdown",
   "metadata": {},
   "source": []
  },
  {
   "cell_type": "code",
   "execution_count": null,
   "metadata": {},
   "outputs": [],
   "source": [
    "df_every_thing = df_reports.rename(index=str, columns={'Occurred ':'Occurred'})"
   ]
  },
  {
   "cell_type": "markdown",
   "metadata": {},
   "source": [
    "<font color='#660066'>\n",
    "\n",
    "In our dataset we noticed there are several emtpy strings. <br/>\n",
    "We decided exchange these empty strings with NaN for easier parsing. "
   ]
  },
  {
   "cell_type": "code",
   "execution_count": null,
   "metadata": {},
   "outputs": [],
   "source": [
    "df_every_thing = replace_empty_with_nan(df_every_thing, 'Occurred')"
   ]
  },
  {
   "cell_type": "markdown",
   "metadata": {},
   "source": [
    "<font color='#660066'>\n",
    "    \n",
    "\n",
    "# Basic Anylsis"
   ]
  },
  {
   "cell_type": "markdown",
   "metadata": {},
   "source": [
    "<font color='#660066'>\n",
    "\n",
    "### Occurred / Reported / Posted"
   ]
  },
  {
   "cell_type": "code",
   "execution_count": null,
   "metadata": {},
   "outputs": [],
   "source": [
    "converted = get_time_of_occurrence(df_every_thing)"
   ]
  },
  {
   "cell_type": "markdown",
   "metadata": {},
   "source": [
    "<font color='#660066'>\n",
    "\n",
    "To check the distribution of the occurance, wea are plotting the year at which the occurance has been noticed. <br />\n",
    "The first occurance time is noted as 1400 AD, as a reference to a painting with a descriptive drawing of a plausible UFO."
   ]
  },
  {
   "cell_type": "markdown",
   "metadata": {},
   "source": [
    "<font color='#660066'>\n",
    "    \n",
    "### Location"
   ]
  },
  {
   "cell_type": "markdown",
   "metadata": {},
   "source": [
    "<font color='#660066'>\n",
    "\n",
    "As most of the reportings are from the US, we are showing the distribution of reports from the different states. <br />\n",
    "The data is not normalized at the moment."
   ]
  },
  {
   "cell_type": "markdown",
   "metadata": {},
   "source": [
    "<font color='#660066'>\n",
    "\n",
    "### Shape"
   ]
  },
  {
   "cell_type": "markdown",
   "metadata": {},
   "source": [
    "<font color='#660066'>\n",
    "\n",
    "The shapes feature consist of 31 different shapes, with the most populated being a 'light source'."
   ]
  },
  {
   "cell_type": "markdown",
   "metadata": {},
   "source": [
    "<font color='#660066'>\n",
    "    \n",
    "### Duration"
   ]
  },
  {
   "cell_type": "markdown",
   "metadata": {},
   "source": [
    "<font color='#660066'>\n",
    "\n",
    "The duration is a user created data format, with lots of different formats, thus the cleaning and parsing of this data will take a large effort."
   ]
  },
  {
   "cell_type": "markdown",
   "metadata": {},
   "source": [
    "<font color='#660066'>\n",
    "\n",
    "### Summary"
   ]
  },
  {
   "cell_type": "markdown",
   "metadata": {},
   "source": [
    "<font color='#660066'>\n",
    "\n",
    "User made input as the summary about the witnessed UFO sighting of varying length. "
   ]
  },
  {
   "cell_type": "markdown",
   "metadata": {},
   "source": [
    "<font color='#660066'>\n",
    "   \n",
    "\n",
    "## Milestone 3\n",
    "\n",
    "- Clean duration ( hard to clean, since several different formats are present)\n",
    "- It would be cool to see how prevalent those shapes are and how frequently they are reported as a function of time. What shapes are associated with what feelings? What shapes are consistently reported at same locations?\n"
   ]
  },
  {
   "cell_type": "code",
   "execution_count": null,
   "metadata": {},
   "outputs": [],
   "source": []
  }
 ],
 "metadata": {
  "kernelspec": {
   "display_name": "Python 3",
   "language": "python",
   "name": "python3"
  },
  "language_info": {
   "codemirror_mode": {
    "name": "ipython",
    "version": 3
   },
   "file_extension": ".py",
   "mimetype": "text/x-python",
   "name": "python",
   "nbconvert_exporter": "python",
   "pygments_lexer": "ipython3",
   "version": "3.6.6"
  }
 },
 "nbformat": 4,
 "nbformat_minor": 2
}
