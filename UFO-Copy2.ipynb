{
 "cells": [
  {
   "cell_type": "markdown",
   "metadata": {},
   "source": [
    "# UFO"
   ]
  },
  {
   "cell_type": "markdown",
   "metadata": {},
   "source": [
    "#### UFORC (National UFO Reporting Center)  Data"
   ]
  },
  {
   "cell_type": "code",
   "execution_count": 95,
   "metadata": {},
   "outputs": [],
   "source": [
    "import numpy as np\n",
    "import matplotlib.pyplot as plt\n",
    "import requests\n",
    "import pandas as pd\n",
    "import seaborn as sns\n",
    "from bs4 import BeautifulSoup\n",
    "from tqdm import tqdm_notebook\n",
    "from datetime import datetime"
   ]
  },
  {
   "cell_type": "code",
   "execution_count": 63,
   "metadata": {},
   "outputs": [],
   "source": [
    "df_every_thing = pd.read_json('jurgis_sightings_1.json')\n",
    "df_every_thing = df_every_thing.rename(index=str, columns={'Occurred ':'Occurred'})"
   ]
  },
  {
   "cell_type": "code",
   "execution_count": 20,
   "metadata": {},
   "outputs": [],
   "source": [
    "def get_time_of_occurrence(data):\n",
    "    \"\"\"\n",
    "    Takes the input of the whole dataframe\n",
    "    Return:\n",
    "       - Time and date of occurrance and report\n",
    "       - Year of occurrance\n",
    "    \"\"\"\n",
    "    data = data.rename(index=str, columns={'Occurred ':'Occurred'})\n",
    "    occur_report = data[['Occurred', 'Reported']]\n",
    "    df_time_occur_report = occur_report.assign(Occurred=occur_report.Occurred.str.split('(',n=1).str[0])\n",
    "    #Create new column for years\n",
    "    df_time_occur_report['year'] = np.nan\n",
    "    df_time_occur_report.Occurred = df_time_occur_repor`t.Occurred.str.strip()\n",
    "    converted_time = to_datetime_add_year(df_time_occur_report.Occurred)\n",
    "    df_time_occur_report.Occurred = converted_time\n",
    "    #Assigns years of occurance to the column\n",
    "    for i in range(len(df_time_occur_report.Occurred)):\n",
    "        df_time_occur_report.year[i] = df_time_occur_report.Occurred[i].year\n",
    "    return df_time_occur_report"
   ]
  },
  {
   "cell_type": "code",
   "execution_count": 21,
   "metadata": {},
   "outputs": [],
   "source": [
    "def to_datetime_add_year(date):\n",
    "    \"\"\"\n",
    "    Changes the date format of the dataframe\n",
    "    Returns:\n",
    "       - Updated time formats\n",
    "    \"\"\"\n",
    "    converted = pd.DataFrame(pd.to_datetime(date,format='%m/%d/%Y %H:%M', \n",
    "                   errors = 'coerce', exact=True))\n",
    "    converted_2 = pd.DataFrame(pd.to_datetime(date,format='%m/%d/%Y', \n",
    "                   errors = 'coerce', exact=True))\n",
    "    values = converted_2[~converted_2.Occurred.isnull()]\n",
    "    converted.update(values)\n",
    "    \n",
    "    return converted"
   ]
  },
  {
   "cell_type": "code",
   "execution_count": 111,
   "metadata": {},
   "outputs": [
    {
     "name": "stderr",
     "output_type": "stream",
     "text": [
      "C:\\Users\\jurgi\\Anaconda3\\lib\\site-packages\\ipykernel_launcher.py:18: SettingWithCopyWarning: \n",
      "A value is trying to be set on a copy of a slice from a DataFrame\n",
      "\n",
      "See the caveats in the documentation: http://pandas.pydata.org/pandas-docs/stable/indexing.html#indexing-view-versus-copy\n"
     ]
    },
    {
     "name": "stdout",
     "output_type": "stream",
     "text": [
      "Wall time: 30.9 s\n"
     ]
    }
   ],
   "source": [
    "%%time\n",
    "df_every_thing = check_for_empty_values(df_every_thing, 'Occurred')\n",
    "converted = get_time_of_occurrence(df_every_thing)"
   ]
  },
  {
   "cell_type": "code",
   "execution_count": 150,
   "metadata": {},
   "outputs": [
    {
     "data": {
      "image/png": "[encoded data removed]",
      "text/plain": [
       "<Figure size 1080x648 with 1 Axes>"
      ]
     },
     "metadata": {
      "needs_background": "light"
     },
     "output_type": "display_data"
    }
   ],
   "source": [
    "def distribution_histogram(data, feature):\n",
    "    plotting_data = data[feature].dropna()\n",
    "    plt.figure(figsize=(15,9))\n",
    "    plot = plt.hist(plotting_data, bins = 40, color = '#8B0000')\n",
    "    # Tweak the visual presentation\n",
    "    #plt.xaxis.grid(True)\n",
    "    plt.title('Distribution of occurrance times')\n",
    "    plt.xlabel('Year')\n",
    "    plt.ylabel('Frequency')\n",
    "    sns.despine(trim=False, left=False)\n",
    "    \n",
    "distribution_histogram(converted, 'year')"
   ]
  },
  {
   "cell_type": "code",
   "execution_count": 107,
   "metadata": {},
   "outputs": [],
   "source": [
    "def check_for_empty_values(data, feature):\n",
    "    \"\"\"\n",
    "    Checks for the missing values in our dataset\n",
    "    And transforms the missing values into NaNs\n",
    "    \"\"\"\n",
    "    feature_names = list(data)\n",
    "    data[feature] = data[feature].str.strip()\n",
    "    data[feature] = np.where(data[feature] != '', data[feature], np.NaN)\n",
    "    nan_count = data[feature].isna().sum()\n",
    "    \n",
    "    print('{} feature has {} missing values'.format(feature, nan_count))\n",
    "    return data"
   ]
  },
  {
   "cell_type": "code",
   "execution_count": 115,
   "metadata": {
    "scrolled": true
   },
   "outputs": [
    {
     "name": "stdout",
     "output_type": "stream",
     "text": [
      "Duration feature has 31 missing values\n"
     ]
    }
   ],
   "source": [
    "clean_data = check_for_empty_values(df_every_thing, \"Duration\")\n"
   ]
  },
  {
   "cell_type": "code",
   "execution_count": 74,
   "metadata": {},
   "outputs": [
    {
     "data": {
      "text/html": [
       "<div>\n",
       "<style scoped>\n",
       "    .dataframe tbody tr th:only-of-type {\n",
       "        vertical-align: middle;\n",
       "    }\n",
       "\n",
       "    .dataframe tbody tr th {\n",
       "        vertical-align: top;\n",
       "    }\n",
       "\n",
       "    .dataframe thead th {\n",
       "        text-align: right;\n",
       "    }\n",
       "</style>\n",
       "<table border=\"1\" class=\"dataframe\">\n",
       "  <thead>\n",
       "    <tr style=\"text-align: right;\">\n",
       "      <th></th>\n",
       "      <th>Duration</th>\n",
       "      <th>Location</th>\n",
       "      <th>Occurred</th>\n",
       "      <th>Posted</th>\n",
       "      <th>Reported</th>\n",
       "      <th>Shape</th>\n",
       "      <th>Summary</th>\n",
       "      <th>url</th>\n",
       "    </tr>\n",
       "  </thead>\n",
       "  <tbody>\n",
       "    <tr>\n",
       "      <th>100006</th>\n",
       "      <td>10 minutes</td>\n",
       "      <td>Meriden, CT</td>\n",
       "      <td>12/14/2014 09:50  (Entered as : 12/14/2014 9:50)</td>\n",
       "      <td>12/18/2014</td>\n",
       "      <td>12/14/2014 7:30:05 PM 19:30</td>\n",
       "      <td>Triangle</td>\n",
       "      <td>['1 Very Large triangle shaped 5 lights around...</td>\n",
       "      <td>http://www.nuforc.org/webreports/115/S115994.html</td>\n",
       "    </tr>\n",
       "    <tr>\n",
       "      <th>100012</th>\n",
       "      <td>~1 minute</td>\n",
       "      <td>National City, CA</td>\n",
       "      <td>12/10/2014 18:45  (Entered as : 12/10/2014 18:45)</td>\n",
       "      <td>12/18/2014</td>\n",
       "      <td>12/18/2014 2:09:28 AM 02:09</td>\n",
       "      <td>Triangle</td>\n",
       "      <td>['I had a sighting on 12-10-14 in National Cit...</td>\n",
       "      <td>http://www.nuforc.org/webreports/116/S116081.html</td>\n",
       "    </tr>\n",
       "    <tr>\n",
       "      <th>100050</th>\n",
       "      <td>1 minute</td>\n",
       "      <td>Huron, SD</td>\n",
       "      <td>11/13/2014 21:00  (Entered as : 11/13/14)</td>\n",
       "      <td>11/14/2014</td>\n",
       "      <td>11/13/2014 8:53:16 PM 20:53</td>\n",
       "      <td>Triangle</td>\n",
       "      <td>['The UFO looked BIG.', 'I had seen three redd...</td>\n",
       "      <td>http://www.nuforc.org/webreports/115/S115340.html</td>\n",
       "    </tr>\n",
       "    <tr>\n",
       "      <th>100115</th>\n",
       "      <td>30 minutes</td>\n",
       "      <td>Middleburg, FL</td>\n",
       "      <td>10/10/2014 21:30  (Entered as : 10/10/2014 21:30)</td>\n",
       "      <td>11/6/2014</td>\n",
       "      <td>10/10/2014 8:32:36 PM 20:32</td>\n",
       "      <td>Triangle</td>\n",
       "      <td>['I was taking my dog out about 9:30 pm, and I...</td>\n",
       "      <td>http://www.nuforc.org/webreports/114/S114420.html</td>\n",
       "    </tr>\n",
       "    <tr>\n",
       "      <th>100124</th>\n",
       "      <td>3-4 minutes</td>\n",
       "      <td>Gainesville, TX</td>\n",
       "      <td>10/7/2014 23:50  (Entered as : 10/07/2014 23:50)</td>\n",
       "      <td>10/10/2014</td>\n",
       "      <td>10/7/2014 11:04:22 PM 23:04</td>\n",
       "      <td>Triangle</td>\n",
       "      <td>['We witnessed a triangular shaped object with...</td>\n",
       "      <td>http://www.nuforc.org/webreports/114/S114314.html</td>\n",
       "    </tr>\n",
       "  </tbody>\n",
       "</table>\n",
       "</div>"
      ],
      "text/plain": [
       "           Duration           Location  \\\n",
       "100006   10 minutes        Meriden, CT   \n",
       "100012    ~1 minute  National City, CA   \n",
       "100050     1 minute          Huron, SD   \n",
       "100115   30 minutes     Middleburg, FL   \n",
       "100124  3-4 minutes    Gainesville, TX   \n",
       "\n",
       "                                                 Occurred      Posted  \\\n",
       "100006   12/14/2014 09:50  (Entered as : 12/14/2014 9:50)  12/18/2014   \n",
       "100012  12/10/2014 18:45  (Entered as : 12/10/2014 18:45)  12/18/2014   \n",
       "100050          11/13/2014 21:00  (Entered as : 11/13/14)  11/14/2014   \n",
       "100115  10/10/2014 21:30  (Entered as : 10/10/2014 21:30)   11/6/2014   \n",
       "100124   10/7/2014 23:50  (Entered as : 10/07/2014 23:50)  10/10/2014   \n",
       "\n",
       "                           Reported     Shape  \\\n",
       "100006  12/14/2014 7:30:05 PM 19:30  Triangle   \n",
       "100012  12/18/2014 2:09:28 AM 02:09  Triangle   \n",
       "100050  11/13/2014 8:53:16 PM 20:53  Triangle   \n",
       "100115  10/10/2014 8:32:36 PM 20:32  Triangle   \n",
       "100124  10/7/2014 11:04:22 PM 23:04  Triangle   \n",
       "\n",
       "                                                  Summary  \\\n",
       "100006  ['1 Very Large triangle shaped 5 lights around...   \n",
       "100012  ['I had a sighting on 12-10-14 in National Cit...   \n",
       "100050  ['The UFO looked BIG.', 'I had seen three redd...   \n",
       "100115  ['I was taking my dog out about 9:30 pm, and I...   \n",
       "100124  ['We witnessed a triangular shaped object with...   \n",
       "\n",
       "                                                      url  \n",
       "100006  http://www.nuforc.org/webreports/115/S115994.html  \n",
       "100012  http://www.nuforc.org/webreports/116/S116081.html  \n",
       "100050  http://www.nuforc.org/webreports/115/S115340.html  \n",
       "100115  http://www.nuforc.org/webreports/114/S114420.html  \n",
       "100124  http://www.nuforc.org/webreports/114/S114314.html  "
      ]
     },
     "execution_count": 74,
     "metadata": {},
     "output_type": "execute_result"
    }
   ],
   "source": [
    "new_data.head()"
   ]
  },
  {
   "cell_type": "code",
   "execution_count": 75,
   "metadata": {},
   "outputs": [],
   "source": [
    "new_data['Duration'] = np.where(new_data['Duration'] != '', new_data['Duration'], np.NaN)"
   ]
  },
  {
   "cell_type": "code",
   "execution_count": 89,
   "metadata": {},
   "outputs": [
    {
     "data": {
      "text/plain": [
       "28"
      ]
     },
     "execution_count": 89,
     "metadata": {},
     "output_type": "execute_result"
    }
   ],
   "source": [
    "new_data.Shape.isna().sum()"
   ]
  },
  {
   "cell_type": "code",
   "execution_count": null,
   "metadata": {},
   "outputs": [],
   "source": []
  }
 ],
 "metadata": {
  "kernelspec": {
   "display_name": "Python 3",
   "language": "python",
   "name": "python3"
  },
  "language_info": {
   "codemirror_mode": {
    "name": "ipython",
    "version": 3
   },
   "file_extension": ".py",
   "mimetype": "text/x-python",
   "name": "python",
   "nbconvert_exporter": "python",
   "pygments_lexer": "ipython3",
   "version": "3.7.0"
  }
 },
 "nbformat": 4,
 "nbformat_minor": 2
}
