{
 "cells": [
  {
   "cell_type": "markdown",
   "metadata": {},
   "source": [
    "# UFO"
   ]
  },
  {
   "cell_type": "markdown",
   "metadata": {},
   "source": [
    "<font color='#660066'>\n",
    "   \n",
    "### Table of Contents\n",
    "\n",
    "- [Data](#Data)\n",
    "    - [Scraping from UFORC](#Scraping-from-UFORC)\n",
    "    - [Data Format](#data_format)\n",
    "    - [Cleaing Data](#cleaning_pdata)\n",
    "- [Basic anlayis](#Basic-Anylsis)\n",
    "- [Milestone 3](#milestones)"
   ]
  },
  {
   "cell_type": "code",
   "execution_count": 1,
   "metadata": {},
   "outputs": [],
   "source": [
    "%load_ext autoreload\n",
    "%autoreload 2\n",
    "import json\n",
    "import pandas as pd\n",
    "from lib.scraping import fetch_shape_urls,  \\\n",
    "                     fetch_all_sighting_urls, \\\n",
    "                     store_to_json, \\\n",
    "                     build_report_dataframe\n",
    "from lib.postprocessing import get_time_of_occurrence, \\\n",
    "                           to_datetime_add_year, \\\n",
    "                           replace_empty_with_nan, \\\n",
    "                           distribution_histogram \n",
    "from lib.cleaning import clean_data, \\\n",
    "                        clean_duration_get_min\n",
    "from lib.nuforc_analysis import *"
   ]
  },
  {
   "cell_type": "code",
   "execution_count": 2,
   "metadata": {},
   "outputs": [],
   "source": [
    "data_folder = \"data/\"\n",
    "\n",
    "file_url_list = data_folder+'full_list_of_urls.json'\n",
    "\n",
    "report_file = 'jurgis_full.csv'"
   ]
  },
  {
   "cell_type": "markdown",
   "metadata": {},
   "source": [
    "<font color='#660066'>\n",
    "    \n",
    "## Loading data\n",
    "\n",
    "of course we dont want so scrape every time"
   ]
  },
  {
   "cell_type": "code",
   "execution_count": 3,
   "metadata": {},
   "outputs": [
    {
     "data": {
      "text/html": [
       "<div>\n",
       "<style scoped>\n",
       "    .dataframe tbody tr th:only-of-type {\n",
       "        vertical-align: middle;\n",
       "    }\n",
       "\n",
       "    .dataframe tbody tr th {\n",
       "        vertical-align: top;\n",
       "    }\n",
       "\n",
       "    .dataframe thead th {\n",
       "        text-align: right;\n",
       "    }\n",
       "</style>\n",
       "<table border=\"1\" class=\"dataframe\">\n",
       "  <thead>\n",
       "    <tr style=\"text-align: right;\">\n",
       "      <th></th>\n",
       "      <th>Unnamed: 0</th>\n",
       "      <th>Duration</th>\n",
       "      <th>Location</th>\n",
       "      <th>Occurred</th>\n",
       "      <th>Posted</th>\n",
       "      <th>Reported</th>\n",
       "      <th>Shape</th>\n",
       "      <th>Summary</th>\n",
       "      <th>url</th>\n",
       "    </tr>\n",
       "  </thead>\n",
       "  <tbody>\n",
       "    <tr>\n",
       "      <th>22105</th>\n",
       "      <td>14216</td>\n",
       "      <td>45 minutes</td>\n",
       "      <td>Myrtle Beach, SC</td>\n",
       "      <td>6/10/2014 22:30  (Entered as : 06/10/14 22:30)</td>\n",
       "      <td>6/13/2014</td>\n",
       "      <td>6/10/2014 8:12:50 PM 20:12</td>\n",
       "      <td>Circle</td>\n",
       "      <td>['Orange lights over water.', \"Sitting on 6th ...</td>\n",
       "      <td>http://www.nuforc.org/webreports/110/S110121.html</td>\n",
       "    </tr>\n",
       "  </tbody>\n",
       "</table>\n",
       "</div>"
      ],
      "text/plain": [
       "       Unnamed: 0    Duration           Location  \\\n",
       "22105       14216  45 minutes   Myrtle Beach, SC   \n",
       "\n",
       "                                             Occurred       Posted  \\\n",
       "22105   6/10/2014 22:30  (Entered as : 06/10/14 22:30)   6/13/2014   \n",
       "\n",
       "                          Reported    Shape  \\\n",
       "22105   6/10/2014 8:12:50 PM 20:12   Circle   \n",
       "\n",
       "                                                 Summary  \\\n",
       "22105  ['Orange lights over water.', \"Sitting on 6th ...   \n",
       "\n",
       "                                                     url  \n",
       "22105  http://www.nuforc.org/webreports/110/S110121.html  "
      ]
     },
     "execution_count": 3,
     "metadata": {},
     "output_type": "execute_result"
    }
   ],
   "source": [
    "df_reports = pd.read_csv(data_folder+report_file)\n",
    "df_reports.sample(1).head()"
   ]
  },
  {
   "cell_type": "code",
   "execution_count": 4,
   "metadata": {},
   "outputs": [],
   "source": [
    "df_reports, df_madarr = clean_data(df_reports)"
   ]
  },
  {
   "cell_type": "code",
   "execution_count": 5,
   "metadata": {},
   "outputs": [
    {
     "data": {
      "text/html": [
       "<div>\n",
       "<style scoped>\n",
       "    .dataframe tbody tr th:only-of-type {\n",
       "        vertical-align: middle;\n",
       "    }\n",
       "\n",
       "    .dataframe tbody tr th {\n",
       "        vertical-align: top;\n",
       "    }\n",
       "\n",
       "    .dataframe thead th {\n",
       "        text-align: right;\n",
       "    }\n",
       "</style>\n",
       "<table border=\"1\" class=\"dataframe\">\n",
       "  <thead>\n",
       "    <tr style=\"text-align: right;\">\n",
       "      <th></th>\n",
       "      <th>Duration</th>\n",
       "      <th>Location</th>\n",
       "      <th>State</th>\n",
       "      <th>Occurred</th>\n",
       "      <th>Posted</th>\n",
       "      <th>Reported</th>\n",
       "      <th>Shape</th>\n",
       "      <th>Summary</th>\n",
       "      <th>nuforc_note</th>\n",
       "      <th>link</th>\n",
       "    </tr>\n",
       "    <tr>\n",
       "      <th>url</th>\n",
       "      <th></th>\n",
       "      <th></th>\n",
       "      <th></th>\n",
       "      <th></th>\n",
       "      <th></th>\n",
       "      <th></th>\n",
       "      <th></th>\n",
       "      <th></th>\n",
       "      <th></th>\n",
       "      <th></th>\n",
       "    </tr>\n",
       "  </thead>\n",
       "  <tbody>\n",
       "    <tr>\n",
       "      <th>http://www.nuforc.org/webreports/143/S143627.html</th>\n",
       "      <td>10.000</td>\n",
       "      <td>Lutz</td>\n",
       "      <td>FL</td>\n",
       "      <td>2018-10-30 23:30:00</td>\n",
       "      <td>11/9/2018</td>\n",
       "      <td>2018-10-30 20:54:00</td>\n",
       "      <td></td>\n",
       "      <td>['Blinking white light that moved every few se...</td>\n",
       "      <td>[((NUFORC Note:  We have attempted to contact ...</td>\n",
       "      <td>[]</td>\n",
       "    </tr>\n",
       "    <tr>\n",
       "      <th>http://www.nuforc.org/webreports/089/S89377.html</th>\n",
       "      <td>4.500</td>\n",
       "      <td>Bridgewater</td>\n",
       "      <td>NJ</td>\n",
       "      <td>2011-11-23 00:45:00</td>\n",
       "      <td>6/5/2012</td>\n",
       "      <td>2012-06-05 12:37:00</td>\n",
       "      <td></td>\n",
       "      <td>['EXPLAINED: Bright lights in Somerset county ...</td>\n",
       "      <td>[((NUFORC Note:  Witness elects to remain tota...</td>\n",
       "      <td>[http://www.nj.com/news/index.ssf/2011/11/brig...</td>\n",
       "    </tr>\n",
       "    <tr>\n",
       "      <th>http://www.nuforc.org/webreports/019/S19862.html</th>\n",
       "      <td>2.000</td>\n",
       "      <td>South Fork</td>\n",
       "      <td>CO</td>\n",
       "      <td>2001-10-04 14:00:00</td>\n",
       "      <td>3/21/2003</td>\n",
       "      <td>2001-10-15 13:27:00</td>\n",
       "      <td>Cigar</td>\n",
       "      <td>['Shinny Cigar shape in sky on clear day.', 'D...</td>\n",
       "      <td>[]</td>\n",
       "      <td>[]</td>\n",
       "    </tr>\n",
       "    <tr>\n",
       "      <th>http://www.nuforc.org/webreports/121/S121007.html</th>\n",
       "      <td>10.000</td>\n",
       "      <td>Hattiesburg</td>\n",
       "      <td>MS</td>\n",
       "      <td>2014-12-17 20:00:00</td>\n",
       "      <td>8/13/2015</td>\n",
       "      <td>2015-08-09 21:11:00</td>\n",
       "      <td>Triangle</td>\n",
       "      <td>['I saw a triangular UFO with red and white li...</td>\n",
       "      <td>[]</td>\n",
       "      <td>[]</td>\n",
       "    </tr>\n",
       "    <tr>\n",
       "      <th>http://www.nuforc.org/webreports/116/S116071.html</th>\n",
       "      <td>0.125</td>\n",
       "      <td>LaBelle</td>\n",
       "      <td>FL</td>\n",
       "      <td>2014-12-17 17:19:00</td>\n",
       "      <td>12/18/2014</td>\n",
       "      <td>2014-12-17 18:21:00</td>\n",
       "      <td>Triangle</td>\n",
       "      <td>['White Triangle in South Florida', 'My co-wor...</td>\n",
       "      <td>[]</td>\n",
       "      <td>[]</td>\n",
       "    </tr>\n",
       "  </tbody>\n",
       "</table>\n",
       "</div>"
      ],
      "text/plain": [
       "                                                   Duration     Location  \\\n",
       "url                                                                        \n",
       "http://www.nuforc.org/webreports/143/S143627.html    10.000         Lutz   \n",
       "http://www.nuforc.org/webreports/089/S89377.html      4.500  Bridgewater   \n",
       "http://www.nuforc.org/webreports/019/S19862.html      2.000   South Fork   \n",
       "http://www.nuforc.org/webreports/121/S121007.html    10.000  Hattiesburg   \n",
       "http://www.nuforc.org/webreports/116/S116071.html     0.125      LaBelle   \n",
       "\n",
       "                                                  State            Occurred  \\\n",
       "url                                                                           \n",
       "http://www.nuforc.org/webreports/143/S143627.html    FL 2018-10-30 23:30:00   \n",
       "http://www.nuforc.org/webreports/089/S89377.html     NJ 2011-11-23 00:45:00   \n",
       "http://www.nuforc.org/webreports/019/S19862.html     CO 2001-10-04 14:00:00   \n",
       "http://www.nuforc.org/webreports/121/S121007.html    MS 2014-12-17 20:00:00   \n",
       "http://www.nuforc.org/webreports/116/S116071.html    FL 2014-12-17 17:19:00   \n",
       "\n",
       "                                                       Posted  \\\n",
       "url                                                             \n",
       "http://www.nuforc.org/webreports/143/S143627.html   11/9/2018   \n",
       "http://www.nuforc.org/webreports/089/S89377.html     6/5/2012   \n",
       "http://www.nuforc.org/webreports/019/S19862.html    3/21/2003   \n",
       "http://www.nuforc.org/webreports/121/S121007.html   8/13/2015   \n",
       "http://www.nuforc.org/webreports/116/S116071.html  12/18/2014   \n",
       "\n",
       "                                                             Reported  \\\n",
       "url                                                                     \n",
       "http://www.nuforc.org/webreports/143/S143627.html 2018-10-30 20:54:00   \n",
       "http://www.nuforc.org/webreports/089/S89377.html  2012-06-05 12:37:00   \n",
       "http://www.nuforc.org/webreports/019/S19862.html  2001-10-15 13:27:00   \n",
       "http://www.nuforc.org/webreports/121/S121007.html 2015-08-09 21:11:00   \n",
       "http://www.nuforc.org/webreports/116/S116071.html 2014-12-17 18:21:00   \n",
       "\n",
       "                                                       Shape  \\\n",
       "url                                                            \n",
       "http://www.nuforc.org/webreports/143/S143627.html              \n",
       "http://www.nuforc.org/webreports/089/S89377.html               \n",
       "http://www.nuforc.org/webreports/019/S19862.html       Cigar   \n",
       "http://www.nuforc.org/webreports/121/S121007.html   Triangle   \n",
       "http://www.nuforc.org/webreports/116/S116071.html   Triangle   \n",
       "\n",
       "                                                                                             Summary  \\\n",
       "url                                                                                                    \n",
       "http://www.nuforc.org/webreports/143/S143627.html  ['Blinking white light that moved every few se...   \n",
       "http://www.nuforc.org/webreports/089/S89377.html   ['EXPLAINED: Bright lights in Somerset county ...   \n",
       "http://www.nuforc.org/webreports/019/S19862.html   ['Shinny Cigar shape in sky on clear day.', 'D...   \n",
       "http://www.nuforc.org/webreports/121/S121007.html  ['I saw a triangular UFO with red and white li...   \n",
       "http://www.nuforc.org/webreports/116/S116071.html  ['White Triangle in South Florida', 'My co-wor...   \n",
       "\n",
       "                                                                                         nuforc_note  \\\n",
       "url                                                                                                    \n",
       "http://www.nuforc.org/webreports/143/S143627.html  [((NUFORC Note:  We have attempted to contact ...   \n",
       "http://www.nuforc.org/webreports/089/S89377.html   [((NUFORC Note:  Witness elects to remain tota...   \n",
       "http://www.nuforc.org/webreports/019/S19862.html                                                  []   \n",
       "http://www.nuforc.org/webreports/121/S121007.html                                                 []   \n",
       "http://www.nuforc.org/webreports/116/S116071.html                                                 []   \n",
       "\n",
       "                                                                                                link  \n",
       "url                                                                                                   \n",
       "http://www.nuforc.org/webreports/143/S143627.html                                                 []  \n",
       "http://www.nuforc.org/webreports/089/S89377.html   [http://www.nj.com/news/index.ssf/2011/11/brig...  \n",
       "http://www.nuforc.org/webreports/019/S19862.html                                                  []  \n",
       "http://www.nuforc.org/webreports/121/S121007.html                                                 []  \n",
       "http://www.nuforc.org/webreports/116/S116071.html                                                 []  "
      ]
     },
     "execution_count": 5,
     "metadata": {},
     "output_type": "execute_result"
    }
   ],
   "source": [
    "df_reports.head()"
   ]
  },
  {
   "cell_type": "code",
   "execution_count": 16,
   "metadata": {},
   "outputs": [
    {
     "name": "stdout",
     "output_type": "stream",
     "text": [
      "all_sightings.json\n",
      "full_list_of_urls.json\n",
      "jurgis_10k.csv\n",
      "jurgis_5k.csv\n",
      "jurgis_5k.json\n",
      "jurgis_full.csv\n",
      "jurgis_sightings.json\n",
      "jurgis_sightings_1.json\n",
      "readme.txt\n",
      "ua_list_ua.xls\n"
     ]
    }
   ],
   "source": [
    "!ls data/"
   ]
  },
  {
   "cell_type": "code",
   "execution_count": 27,
   "metadata": {},
   "outputs": [],
   "source": [
    "df_population = pd.read_excel('data/PctUrbanRural_State.xls')\n",
    "df_population_all = pd.read_excel('data/PctUrbanRural_County.xls')"
   ]
  },
  {
   "cell_type": "code",
   "execution_count": 88,
   "metadata": {},
   "outputs": [],
   "source": [
    "us_state_abbrev = {\n",
    "    'Alabama': 'AL',\n",
    "    'Alaska': 'AK',\n",
    "    'Arizona': 'AZ',\n",
    "    'Arkansas': 'AR',\n",
    "    'California': 'CA',\n",
    "    'Colorado': 'CO',\n",
    "    'Connecticut': 'CT',\n",
    "    'Delaware': 'DE',\n",
    "    'Florida': 'FL',\n",
    "    'Georgia': 'GA',\n",
    "    'Hawaii': 'HI',\n",
    "    'Idaho': 'ID',\n",
    "    'Illinois': 'IL',\n",
    "    'Indiana': 'IN',\n",
    "    'Iowa': 'IA',\n",
    "    'Kansas': 'KS',\n",
    "    'Kentucky': 'KY',\n",
    "    'Louisiana': 'LA',\n",
    "    'Maine': 'ME',\n",
    "    'Maryland': 'MD',\n",
    "    'Massachusetts': 'MA',\n",
    "    'Michigan': 'MI',\n",
    "    'Minnesota': 'MN',\n",
    "    'Mississippi': 'MS',\n",
    "    'Missouri': 'MO',\n",
    "    'Montana': 'MT',\n",
    "    'Nebraska': 'NE',\n",
    "    'Nevada': 'NV',\n",
    "    'New Hampshire': 'NH',\n",
    "    'New Jersey': 'NJ',\n",
    "    'New Mexico': 'NM',\n",
    "    'New York': 'NY',\n",
    "    'North Carolina': 'NC',\n",
    "    'North Dakota': 'ND',\n",
    "    'Ohio': 'OH',\n",
    "    'Oklahoma': 'OK',\n",
    "    'Oregon': 'OR',\n",
    "    'Pennsylvania': 'PA',\n",
    "    'Rhode Island': 'RI',\n",
    "    'South Carolina': 'SC',\n",
    "    'South Dakota': 'SD',\n",
    "    'Tennessee': 'TN',\n",
    "    'Texas': 'TX',\n",
    "    'Utah': 'UT',\n",
    "    'Vermont': 'VT',\n",
    "    'Virginia': 'VA',\n",
    "    'Washington': 'WA',\n",
    "    'West Virginia': 'WV',\n",
    "    'Wisconsin': 'WI',\n",
    "    'Wyoming': 'WY',\n",
    "}"
   ]
  },
  {
   "cell_type": "code",
   "execution_count": 122,
   "metadata": {},
   "outputs": [],
   "source": [
    "def get_us_population_data(df, dict, density_amount = 30):\n",
    "    \"\"\"\n",
    "    Takes an input of US census data on US counties, their land areas and populations\n",
    "    :density_amount: Our filter at which we say whether a county is 'urban' or 'rural'\n",
    "                    We use 30 as default, as that returns 80% population worth of counties\n",
    "                    as urban, which is inline with US census data, see:\n",
    "                    https://www.census.gov/geo/reference/ua/urban-rural-2010.html\n",
    "    returns:\n",
    "        - DataFrame with calculated density and boolean index to whether the county is \n",
    "        rural or not\n",
    "    \"\"\"\n",
    "    df_density = df[['STATENAME','COUNTYNAME', 'POP_COU','AREA_COU']].copy()\n",
    "    df_density = df_density.drop(df_density[df_density.STATENAME == 'Puerto Rico'].index)\n",
    "    df_density.AREA_COU = df_density.AREA_COU/(1000000)\n",
    "    df_density['density'] = df_density.POP_COU/df_density.AREA_COU\n",
    "    df_density['urban'] = False\n",
    "    df_density.urban[(df_density.density > density_amount)] = True\n",
    "    df_density.replace({'STATENAME': dict})\n",
    "    return df_density"
   ]
  },
  {
   "cell_type": "code",
   "execution_count": 123,
   "metadata": {},
   "outputs": [],
   "source": [
    "df_density = get_us_population_data(df_population_all, us_state_abbrev)"
   ]
  },
  {
   "cell_type": "code",
   "execution_count": 124,
   "metadata": {},
   "outputs": [
    {
     "data": {
      "text/plain": [
       "262347473"
      ]
     },
     "execution_count": 124,
     "metadata": {},
     "output_type": "execute_result"
    }
   ],
   "source": [
    "df_density.POP_COU[(df_density.urban == True)].sum()"
   ]
  },
  {
   "cell_type": "code",
   "execution_count": 126,
   "metadata": {},
   "outputs": [
    {
     "data": {
      "text/plain": [
       "STATENAME     1066\n",
       "COUNTYNAME    1066\n",
       "POP_COU       1066\n",
       "AREA_COU      1066\n",
       "density       1066\n",
       "urban         1066\n",
       "dtype: int64"
      ]
     },
     "execution_count": 126,
     "metadata": {},
     "output_type": "execute_result"
    }
   ],
   "source": [
    "df_density[(df_density.urban == True)].count()"
   ]
  },
  {
   "cell_type": "code",
   "execution_count": null,
   "metadata": {},
   "outputs": [],
   "source": []
  }
 ],
 "metadata": {
  "kernelspec": {
   "display_name": "Python 3",
   "language": "python",
   "name": "python3"
  },
  "language_info": {
   "codemirror_mode": {
    "name": "ipython",
    "version": 3
   },
   "file_extension": ".py",
   "mimetype": "text/x-python",
   "name": "python",
   "nbconvert_exporter": "python",
   "pygments_lexer": "ipython3",
   "version": "3.7.0"
  }
 },
 "nbformat": 4,
 "nbformat_minor": 2
}
