{
 "cells": [
  {
   "cell_type": "markdown",
   "metadata": {},
   "source": [
    "# UFO"
   ]
  },
  {
   "cell_type": "markdown",
   "metadata": {},
   "source": [
    "<font color='#660066'>\n",
    "   \n",
    "### Table of Contents\n",
    "\n",
    "- [Data](#Data)\n",
    "    - [Scraping from UFORC](#Scraping-from-UFORC)\n",
    "    - [Data Format](#data_format)\n",
    "    - [Cleaing Data](#cleaning_pdata)\n",
    "- [Basic anlayis](#Basic-Anylsis)\n",
    "- [Milestone 3](#milestones)"
   ]
  },
  {
   "cell_type": "code",
   "execution_count": 62,
   "metadata": {},
   "outputs": [
    {
     "name": "stdout",
     "output_type": "stream",
     "text": [
      "The autoreload extension is already loaded. To reload it, use:\n",
      "  %reload_ext autoreload\n"
     ]
    }
   ],
   "source": [
    "%load_ext autoreload\n",
    "%autoreload 2\n",
    "import json\n",
    "import pandas as pd\n",
    "from matplotlib.pyplot import *\n",
    "from lib.scraping import fetch_shape_urls,  \\\n",
    "                     fetch_all_sighting_urls, \\\n",
    "                     store_to_json, \\\n",
    "                     build_report_dataframe\n",
    "from lib.postprocessing import get_time_of_occurrence, \\\n",
    "                           to_datetime_add_year, \\\n",
    "                           replace_empty_with_nan, \\\n",
    "                           distribution_histogram \n",
    "from lib.cleaning import clean_data, \\\n",
    "                        clean_duration_get_min\n",
    "from lib.nuforc_analysis import *"
   ]
  },
  {
   "cell_type": "code",
   "execution_count": 2,
   "metadata": {},
   "outputs": [],
   "source": [
    "data_folder = \"data/\"\n",
    "\n",
    "file_url_list = data_folder+'full_list_of_urls.json'\n",
    "\n",
    "report_file = 'jurgis_full.csv'"
   ]
  },
  {
   "cell_type": "markdown",
   "metadata": {},
   "source": [
    "<font color='#660066'>\n",
    "    \n",
    "## Loading data\n",
    "\n",
    "of course we dont want so scrape every time"
   ]
  },
  {
   "cell_type": "code",
   "execution_count": 3,
   "metadata": {},
   "outputs": [
    {
     "data": {
      "text/html": [
       "<div>\n",
       "<style scoped>\n",
       "    .dataframe tbody tr th:only-of-type {\n",
       "        vertical-align: middle;\n",
       "    }\n",
       "\n",
       "    .dataframe tbody tr th {\n",
       "        vertical-align: top;\n",
       "    }\n",
       "\n",
       "    .dataframe thead th {\n",
       "        text-align: right;\n",
       "    }\n",
       "</style>\n",
       "<table border=\"1\" class=\"dataframe\">\n",
       "  <thead>\n",
       "    <tr style=\"text-align: right;\">\n",
       "      <th></th>\n",
       "      <th>Unnamed: 0</th>\n",
       "      <th>Duration</th>\n",
       "      <th>Location</th>\n",
       "      <th>Occurred</th>\n",
       "      <th>Posted</th>\n",
       "      <th>Reported</th>\n",
       "      <th>Shape</th>\n",
       "      <th>Summary</th>\n",
       "      <th>url</th>\n",
       "    </tr>\n",
       "  </thead>\n",
       "  <tbody>\n",
       "    <tr>\n",
       "      <th>32441</th>\n",
       "      <td>23519</td>\n",
       "      <td>5-7 minutes</td>\n",
       "      <td>Deland, FL</td>\n",
       "      <td>3/15/2016 02:30  (Entered as : 03/15/2016 02:30)</td>\n",
       "      <td>3/24/2016</td>\n",
       "      <td>3/22/2016 2:14:57 AM 02:14</td>\n",
       "      <td>Cross</td>\n",
       "      <td>['I was on the backside of Blue Lake, looking ...</td>\n",
       "      <td>http://www.nuforc.org/webreports/126/S126492.html</td>\n",
       "    </tr>\n",
       "  </tbody>\n",
       "</table>\n",
       "</div>"
      ],
      "text/plain": [
       "       Unnamed: 0     Duration     Location  \\\n",
       "32441       23519  5-7 minutes   Deland, FL   \n",
       "\n",
       "                                               Occurred       Posted  \\\n",
       "32441   3/15/2016 02:30  (Entered as : 03/15/2016 02:30)   3/24/2016   \n",
       "\n",
       "                          Reported   Shape  \\\n",
       "32441   3/22/2016 2:14:57 AM 02:14   Cross   \n",
       "\n",
       "                                                 Summary  \\\n",
       "32441  ['I was on the backside of Blue Lake, looking ...   \n",
       "\n",
       "                                                     url  \n",
       "32441  http://www.nuforc.org/webreports/126/S126492.html  "
      ]
     },
     "execution_count": 3,
     "metadata": {},
     "output_type": "execute_result"
    }
   ],
   "source": [
    "df_reports = pd.read_csv(data_folder+report_file)\n",
    "df_reports.sample(1).head()"
   ]
  },
  {
   "cell_type": "code",
   "execution_count": 4,
   "metadata": {},
   "outputs": [],
   "source": [
    "df_reports, df_madarr = clean_data(df_reports)"
   ]
  },
  {
   "cell_type": "code",
   "execution_count": 5,
   "metadata": {},
   "outputs": [
    {
     "data": {
      "text/html": [
       "<div>\n",
       "<style scoped>\n",
       "    .dataframe tbody tr th:only-of-type {\n",
       "        vertical-align: middle;\n",
       "    }\n",
       "\n",
       "    .dataframe tbody tr th {\n",
       "        vertical-align: top;\n",
       "    }\n",
       "\n",
       "    .dataframe thead th {\n",
       "        text-align: right;\n",
       "    }\n",
       "</style>\n",
       "<table border=\"1\" class=\"dataframe\">\n",
       "  <thead>\n",
       "    <tr style=\"text-align: right;\">\n",
       "      <th></th>\n",
       "      <th>Duration</th>\n",
       "      <th>Location</th>\n",
       "      <th>State</th>\n",
       "      <th>Occurred</th>\n",
       "      <th>Posted</th>\n",
       "      <th>Reported</th>\n",
       "      <th>Shape</th>\n",
       "      <th>Summary</th>\n",
       "      <th>nuforc_note</th>\n",
       "      <th>link</th>\n",
       "    </tr>\n",
       "    <tr>\n",
       "      <th>url</th>\n",
       "      <th></th>\n",
       "      <th></th>\n",
       "      <th></th>\n",
       "      <th></th>\n",
       "      <th></th>\n",
       "      <th></th>\n",
       "      <th></th>\n",
       "      <th></th>\n",
       "      <th></th>\n",
       "      <th></th>\n",
       "    </tr>\n",
       "  </thead>\n",
       "  <tbody>\n",
       "    <tr>\n",
       "      <th>http://www.nuforc.org/webreports/057/S57253.html</th>\n",
       "      <td>15.0</td>\n",
       "      <td>Thomasville</td>\n",
       "      <td>GA</td>\n",
       "      <td>1971-04-15 21:00:00</td>\n",
       "      <td>8/7/2007</td>\n",
       "      <td>2007-06-23 11:34:00</td>\n",
       "      <td>Disk</td>\n",
       "      <td>['I did not record the date, I could not tell ...</td>\n",
       "      <td>[((NUFORC Note:  Witness indicates that the da...</td>\n",
       "      <td>[]</td>\n",
       "    </tr>\n",
       "  </tbody>\n",
       "</table>\n",
       "</div>"
      ],
      "text/plain": [
       "                                                  Duration     Location State  \\\n",
       "url                                                                             \n",
       "http://www.nuforc.org/webreports/057/S57253.html      15.0  Thomasville    GA   \n",
       "\n",
       "                                                            Occurred  \\\n",
       "url                                                                    \n",
       "http://www.nuforc.org/webreports/057/S57253.html 1971-04-15 21:00:00   \n",
       "\n",
       "                                                    Posted  \\\n",
       "url                                                          \n",
       "http://www.nuforc.org/webreports/057/S57253.html  8/7/2007   \n",
       "\n",
       "                                                            Reported  Shape  \\\n",
       "url                                                                           \n",
       "http://www.nuforc.org/webreports/057/S57253.html 2007-06-23 11:34:00   Disk   \n",
       "\n",
       "                                                                                            Summary  \\\n",
       "url                                                                                                   \n",
       "http://www.nuforc.org/webreports/057/S57253.html  ['I did not record the date, I could not tell ...   \n",
       "\n",
       "                                                                                        nuforc_note  \\\n",
       "url                                                                                                   \n",
       "http://www.nuforc.org/webreports/057/S57253.html  [((NUFORC Note:  Witness indicates that the da...   \n",
       "\n",
       "                                                 link  \n",
       "url                                                    \n",
       "http://www.nuforc.org/webreports/057/S57253.html   []  "
      ]
     },
     "execution_count": 5,
     "metadata": {},
     "output_type": "execute_result"
    }
   ],
   "source": [
    "df_reports.sample(1).head()"
   ]
  },
  {
   "cell_type": "code",
   "execution_count": 155,
   "metadata": {},
   "outputs": [],
   "source": [
    "df_peaks = df_reports[['Occurred']].copy()\n",
    "df_peaks = df_peaks[(df_peaks.Occurred.dt.year > 1900)]\n",
    "index_list = df_peaks[df_peaks.Occurred.isna()].index\n",
    "df_peaks = df_peaks.dropna()\n",
    "df_peaks['year_month'] = df_peaks.Occurred.map(lambda x: x.strftime('%m'))\n",
    "plotting_times = df_peaks.groupby(by='year_month').count()"
   ]
  },
  {
   "cell_type": "code",
   "execution_count": 156,
   "metadata": {},
   "outputs": [
    {
     "data": {
      "text/plain": [
       "Text(0,0.5,'Amount')"
      ]
     },
     "execution_count": 156,
     "metadata": {},
     "output_type": "execute_result"
    },
    {
     "data": {
      "image/png": "[encoded data removed]",
      "text/plain": [
       "<Figure size 1152x432 with 1 Axes>"
      ]
     },
     "metadata": {
      "needs_background": "light"
     },
     "output_type": "display_data"
    }
   ],
   "source": [
    "fig, ax = subplots()\n",
    "plotting_times.plot.bar(figsize=(16,6), ax=ax)\n",
    "ax.legend(['Intensity of occurance'])\n",
    "xlabel(\"Month\")\n",
    "ylabel('Amount')"
   ]
  },
  {
   "cell_type": "markdown",
   "metadata": {},
   "source": [
    "### Analysis\n",
    "This plot shows the amount of reported occurances per month from 1900-2018.\n",
    "We can see a very clear trend that during the summer months when there is an increase in submitted reports.\n",
    "This can be reasoned with very logicaly, because during warmer periods people tend to spend more time outside, thus have a higher probability of making a sighting of a UFO.\n",
    "\n",
    "But we see a clear increase in July, thus we will be investigating this month more, by plotting the reports from July over the time frame 1900 to 2018."
   ]
  },
  {
   "cell_type": "code",
   "execution_count": 157,
   "metadata": {},
   "outputs": [],
   "source": [
    "df_july = df_reports[['Occurred']].copy()\n",
    "df_july = df_july[(df_july.Occurred.dt.year > 1900)]\n",
    "df_july = df_july[(df_july.Occurred.dt.month == 7)]\n",
    "index_list = df_july[df_july.Occurred.isna()].index\n",
    "df_july = df_july.dropna()\n",
    "df_july['days'] = df_july.Occurred.map(lambda x: x.strftime('%d'))\n",
    "july_plotting_times = df_july.groupby(by='days').count()"
   ]
  },
  {
   "cell_type": "code",
   "execution_count": 158,
   "metadata": {},
   "outputs": [
    {
     "data": {
      "text/plain": [
       "Text(0,0.5,'Amount')"
      ]
     },
     "execution_count": 158,
     "metadata": {},
     "output_type": "execute_result"
    },
    {
     "data": {
      "image/png": "[encoded data removed]",
      "text/plain": [
       "<Figure size 1152x432 with 1 Axes>"
      ]
     },
     "metadata": {
      "needs_background": "light"
     },
     "output_type": "display_data"
    }
   ],
   "source": [
    "fig, ax = subplots()\n",
    "july_plotting_times.plot.bar(figsize=(16,6), ax=ax)\n",
    "ax.legend(['Intensity of occurance in July'])\n",
    "xlabel(\"Day\")\n",
    "ylabel('Amount')"
   ]
  },
  {
   "cell_type": "markdown",
   "metadata": {},
   "source": [
    "## Analysis\n",
    "Now, here things start to become very interesting. We can quite obviously see an increase for the 4th of July, as a lot of sightings might be connected with the fireworks in the US. \n",
    "\n",
    "Though, another very clear increase is on the 15th of July, but after a google query, no specific occurance in the month of July was found. Thus, an investigation of the 15th of July over the years occurs. What is more interesting, is that the increase on the 15th day of the month can be seen across multiple months."
   ]
  },
  {
   "cell_type": "code",
   "execution_count": 159,
   "metadata": {},
   "outputs": [],
   "source": [
    "def get_data_for_months(df):\n",
    "    df_month = df[['Occurred']].copy()\n",
    "    df_month = df_month[(df_month.Occurred.dt.year > 1900)]\n",
    "    months = []\n",
    "    for i in range(1,13):\n",
    "        df_month_iter = df_month[(df_month.Occurred.dt.month == i)].copy()\n",
    "        index_list = df_month_iter[df_month_iter.Occurred.isna()].index\n",
    "        df_month_iter = df_month_iter.dropna()\n",
    "        df_month_iter['days'] = df_month_iter.Occurred.map(lambda x: x.strftime('%d'))\n",
    "        each_month = df_month_iter.groupby(by='days').count()\n",
    "        months.append(each_month)\n",
    "    return months"
   ]
  },
  {
   "cell_type": "code",
   "execution_count": 160,
   "metadata": {},
   "outputs": [],
   "source": [
    "months = get_data_for_months(df_reports)"
   ]
  },
  {
   "cell_type": "code",
   "execution_count": 161,
   "metadata": {},
   "outputs": [
    {
     "data": {
      "text/plain": [
       "<matplotlib.legend.Legend at 0x1c7a1178b38>"
      ]
     },
     "execution_count": 161,
     "metadata": {},
     "output_type": "execute_result"
    },
    {
     "data": {
      "image/png": "[encoded data removed]",
      "text/plain": [
       "<Figure size 1152x576 with 12 Axes>"
      ]
     },
     "metadata": {
      "needs_background": "light"
     },
     "output_type": "display_data"
    }
   ],
   "source": [
    "figs, axis = subplots(nrows=4,ncols=3)\n",
    "months[0].plot.bar(ax=axis[0,0],figsize=(16,8))\n",
    "axis[0,0].legend(['January'])\n",
    "months[1].plot.bar(ax=axis[1,0])\n",
    "axis[1,0].legend(['February'])\n",
    "months[2].plot.bar(ax=axis[2,0])\n",
    "axis[2,0].legend(['March'])\n",
    "months[3].plot.bar(ax=axis[3,0])\n",
    "axis[3,0].legend(['April'])\n",
    "months[4].plot.bar(ax=axis[0,1])\n",
    "axis[0,1].legend(['May'])\n",
    "months[5].plot.bar(ax=axis[1,1])\n",
    "axis[1,1].legend(['June'])\n",
    "months[6].plot.bar(ax=axis[2,1])\n",
    "axis[2,1].legend(['July'])\n",
    "months[7].plot.bar(ax=axis[3,1])\n",
    "axis[3,1].legend(['August'])\n",
    "months[8].plot.bar(ax=axis[0,2])\n",
    "axis[0,2].legend(['September'])\n",
    "months[9].plot.bar(ax=axis[1,2])\n",
    "axis[1,2].legend(['October'])\n",
    "months[10].plot.bar(ax=axis[2,2])\n",
    "axis[2,2].legend(['November'])\n",
    "months[11].plot.bar(ax=axis[3,2])\n",
    "axis[3,2].legend(['December'])"
   ]
  },
  {
   "cell_type": "markdown",
   "metadata": {},
   "source": [
    "We can see a very clear trend across all months, that during the 15th day of the month there is a sudden increase in occured reportings of UFOs. Also, in most months there is a peak on the first day of the month. And in some months there are also other peaks, which most of the time can be explained due to holidays and such events.\n",
    "\n",
    "Now to look into the 15th of July specifically over the years."
   ]
  },
  {
   "cell_type": "code",
   "execution_count": 162,
   "metadata": {},
   "outputs": [],
   "source": [
    "df_15july = df_reports[['Occurred']].copy()\n",
    "df_15july = df_15july[(df_15july.Occurred.dt.year > 1900)]\n",
    "df_15july = df_15july[(df_15july.Occurred.dt.month == 7)]\n",
    "df_15july = df_15july[(df_15july.Occurred.dt.day== 15)]\n",
    "index_list = df_15july[df_15july.Occurred.isna()].index\n",
    "df_15july = df_15july.dropna()\n",
    "df_15july['years'] = df_15july.Occurred.map(lambda x: x.strftime('%Y'))\n",
    "july15_plotting_times = df_15july.groupby(by='years').count()"
   ]
  },
  {
   "cell_type": "code",
   "execution_count": 163,
   "metadata": {},
   "outputs": [
    {
     "data": {
      "text/plain": [
       "Text(0,0.5,'Amount')"
      ]
     },
     "execution_count": 163,
     "metadata": {},
     "output_type": "execute_result"
    },
    {
     "data": {
      "image/png": "[encoded data removed]",
      "text/plain": [
       "<Figure size 1152x432 with 1 Axes>"
      ]
     },
     "metadata": {
      "needs_background": "light"
     },
     "output_type": "display_data"
    }
   ],
   "source": [
    "fig, ax = subplots()\n",
    "july15_plotting_times.plot.bar(figsize=(16,6), ax=ax)\n",
    "ax.legend(['Intensity of occurance in July'])\n",
    "xlabel(\"Day\")\n",
    "ylabel('Amount')"
   ]
  },
  {
   "cell_type": "markdown",
   "metadata": {},
   "source": [
    "We see no particaular increase on the 15th of July over the years, so there might be some other reason for this phenomena."
   ]
  },
  {
   "cell_type": "markdown",
   "metadata": {},
   "source": [
    "Thus, we're going to do some more indepth analysis on these reports - text analysis, time of report, duration."
   ]
  },
  {
   "cell_type": "code",
   "execution_count": 165,
   "metadata": {},
   "outputs": [
    {
     "name": "stderr",
     "output_type": "stream",
     "text": [
      "C:\\Users\\jurgi\\Anaconda3\\lib\\site-packages\\ipykernel_launcher.py:4: UserWarning: Boolean Series key will be reindexed to match DataFrame index.\n",
      "  after removing the cwd from sys.path.\n"
     ]
    }
   ],
   "source": [
    "df_15th = df_reports[['Occurred']].copy()\n",
    "df_15th = df_15th[(df_15th.Occurred.dt.year > 1900)]\n",
    "df_15th = df_15th[(df_15th.Occurred.dt.day == 15)]\n",
    "index_list = df_15july[df_15th.Occurred.isna()].index\n",
    "df_15th = df_15th.dropna()\n",
    "df_15th['15th over years'] = df_15th.Occurred.map(lambda x: x.strftime('%Y'))\n",
    "plotting_15th_day = df_15th.groupby(by='15th over years').count()"
   ]
  },
  {
   "cell_type": "code",
   "execution_count": 166,
   "metadata": {},
   "outputs": [
    {
     "data": {
      "text/plain": [
       "Text(0,0.5,'Amount')"
      ]
     },
     "execution_count": 166,
     "metadata": {},
     "output_type": "execute_result"
    },
    {
     "data": {
      "image/png": "[encoded data removed]",
      "text/plain": [
       "<Figure size 1152x432 with 1 Axes>"
      ]
     },
     "metadata": {
      "needs_background": "light"
     },
     "output_type": "display_data"
    }
   ],
   "source": [
    "fig, ax = subplots()\n",
    "plotting_15th_day.plot.bar(figsize=(16,6), ax=ax)\n",
    "ax.legend(['Intensity of occurance on the 15th day of the month'])\n",
    "xlabel(\"Year\")\n",
    "ylabel('Amount')"
   ]
  },
  {
   "cell_type": "markdown",
   "metadata": {},
   "source": [
    "And again, nothing specific can be noticed for the 15th day of the month.\n",
    "\n",
    "Thus, exctracting the reports of the 15th day of the month."
   ]
  },
  {
   "cell_type": "code",
   "execution_count": 171,
   "metadata": {},
   "outputs": [
    {
     "data": {
      "text/html": [
       "<div>\n",
       "<style scoped>\n",
       "    .dataframe tbody tr th:only-of-type {\n",
       "        vertical-align: middle;\n",
       "    }\n",
       "\n",
       "    .dataframe tbody tr th {\n",
       "        vertical-align: top;\n",
       "    }\n",
       "\n",
       "    .dataframe thead th {\n",
       "        text-align: right;\n",
       "    }\n",
       "</style>\n",
       "<table border=\"1\" class=\"dataframe\">\n",
       "  <thead>\n",
       "    <tr style=\"text-align: right;\">\n",
       "      <th></th>\n",
       "      <th>Duration</th>\n",
       "      <th>Location</th>\n",
       "      <th>State</th>\n",
       "      <th>Occurred</th>\n",
       "      <th>Posted</th>\n",
       "      <th>Reported</th>\n",
       "      <th>Shape</th>\n",
       "      <th>Summary</th>\n",
       "      <th>nuforc_note</th>\n",
       "      <th>link</th>\n",
       "    </tr>\n",
       "    <tr>\n",
       "      <th>url</th>\n",
       "      <th></th>\n",
       "      <th></th>\n",
       "      <th></th>\n",
       "      <th></th>\n",
       "      <th></th>\n",
       "      <th></th>\n",
       "      <th></th>\n",
       "      <th></th>\n",
       "      <th></th>\n",
       "      <th></th>\n",
       "    </tr>\n",
       "  </thead>\n",
       "  <tbody>\n",
       "    <tr>\n",
       "      <th>http://www.nuforc.org/webreports/116/S116228.html</th>\n",
       "      <td>5.000000</td>\n",
       "      <td>Lenoir City</td>\n",
       "      <td>TN</td>\n",
       "      <td>2014-12-15 05:30:00</td>\n",
       "      <td>1/7/2015</td>\n",
       "      <td>2014-12-28 18:11:00</td>\n",
       "      <td>Triangle</td>\n",
       "      <td>['My wife and I were on our way to work. She s...</td>\n",
       "      <td>[]</td>\n",
       "      <td>[]</td>\n",
       "    </tr>\n",
       "    <tr>\n",
       "      <th>http://www.nuforc.org/webreports/115/S115561.html</th>\n",
       "      <td>4.500000</td>\n",
       "      <td>Newark</td>\n",
       "      <td>TX</td>\n",
       "      <td>2014-11-15 20:35:00</td>\n",
       "      <td>11/26/2014</td>\n",
       "      <td>2014-11-23 06:46:00</td>\n",
       "      <td>Triangle</td>\n",
       "      <td>['3 Black Triangular Objects flying silently o...</td>\n",
       "      <td>[((NUFORC Note:  Witness has been known to our...</td>\n",
       "      <td>[]</td>\n",
       "    </tr>\n",
       "    <tr>\n",
       "      <th>http://www.nuforc.org/webreports/115/S115416.html</th>\n",
       "      <td>0.083333</td>\n",
       "      <td>Attleboro</td>\n",
       "      <td>MA</td>\n",
       "      <td>2014-11-15 18:20:00</td>\n",
       "      <td>11/21/2014</td>\n",
       "      <td>2014-11-17 07:12:00</td>\n",
       "      <td>Triangle</td>\n",
       "      <td>['Triangle black, no light in any side.  3 or ...</td>\n",
       "      <td>[]</td>\n",
       "      <td>[]</td>\n",
       "    </tr>\n",
       "    <tr>\n",
       "      <th>http://www.nuforc.org/webreports/114/S114566.html</th>\n",
       "      <td>5.000000</td>\n",
       "      <td>Flagstaff</td>\n",
       "      <td>AZ</td>\n",
       "      <td>2014-10-15 19:30:00</td>\n",
       "      <td>11/6/2014</td>\n",
       "      <td>2014-10-15 20:10:00</td>\n",
       "      <td>Triangle</td>\n",
       "      <td>['Three yellow lighted hovered next to my car ...</td>\n",
       "      <td>[]</td>\n",
       "      <td>[]</td>\n",
       "    </tr>\n",
       "    <tr>\n",
       "      <th>http://www.nuforc.org/webreports/114/S114570.html</th>\n",
       "      <td>3.000000</td>\n",
       "      <td>Lorain</td>\n",
       "      <td>OH</td>\n",
       "      <td>2014-10-15 19:28:00</td>\n",
       "      <td>11/6/2014</td>\n",
       "      <td>2014-10-15 22:59:00</td>\n",
       "      <td>Triangle</td>\n",
       "      <td>['Five flashing triangular objects viewed from...</td>\n",
       "      <td>[]</td>\n",
       "      <td>[]</td>\n",
       "    </tr>\n",
       "  </tbody>\n",
       "</table>\n",
       "</div>"
      ],
      "text/plain": [
       "                                                   Duration     Location  \\\n",
       "url                                                                        \n",
       "http://www.nuforc.org/webreports/116/S116228.html  5.000000  Lenoir City   \n",
       "http://www.nuforc.org/webreports/115/S115561.html  4.500000       Newark   \n",
       "http://www.nuforc.org/webreports/115/S115416.html  0.083333    Attleboro   \n",
       "http://www.nuforc.org/webreports/114/S114566.html  5.000000    Flagstaff   \n",
       "http://www.nuforc.org/webreports/114/S114570.html  3.000000       Lorain   \n",
       "\n",
       "                                                  State            Occurred  \\\n",
       "url                                                                           \n",
       "http://www.nuforc.org/webreports/116/S116228.html    TN 2014-12-15 05:30:00   \n",
       "http://www.nuforc.org/webreports/115/S115561.html    TX 2014-11-15 20:35:00   \n",
       "http://www.nuforc.org/webreports/115/S115416.html    MA 2014-11-15 18:20:00   \n",
       "http://www.nuforc.org/webreports/114/S114566.html    AZ 2014-10-15 19:30:00   \n",
       "http://www.nuforc.org/webreports/114/S114570.html    OH 2014-10-15 19:28:00   \n",
       "\n",
       "                                                       Posted  \\\n",
       "url                                                             \n",
       "http://www.nuforc.org/webreports/116/S116228.html    1/7/2015   \n",
       "http://www.nuforc.org/webreports/115/S115561.html  11/26/2014   \n",
       "http://www.nuforc.org/webreports/115/S115416.html  11/21/2014   \n",
       "http://www.nuforc.org/webreports/114/S114566.html   11/6/2014   \n",
       "http://www.nuforc.org/webreports/114/S114570.html   11/6/2014   \n",
       "\n",
       "                                                             Reported  \\\n",
       "url                                                                     \n",
       "http://www.nuforc.org/webreports/116/S116228.html 2014-12-28 18:11:00   \n",
       "http://www.nuforc.org/webreports/115/S115561.html 2014-11-23 06:46:00   \n",
       "http://www.nuforc.org/webreports/115/S115416.html 2014-11-17 07:12:00   \n",
       "http://www.nuforc.org/webreports/114/S114566.html 2014-10-15 20:10:00   \n",
       "http://www.nuforc.org/webreports/114/S114570.html 2014-10-15 22:59:00   \n",
       "\n",
       "                                                       Shape  \\\n",
       "url                                                            \n",
       "http://www.nuforc.org/webreports/116/S116228.html   Triangle   \n",
       "http://www.nuforc.org/webreports/115/S115561.html   Triangle   \n",
       "http://www.nuforc.org/webreports/115/S115416.html   Triangle   \n",
       "http://www.nuforc.org/webreports/114/S114566.html   Triangle   \n",
       "http://www.nuforc.org/webreports/114/S114570.html   Triangle   \n",
       "\n",
       "                                                                                             Summary  \\\n",
       "url                                                                                                    \n",
       "http://www.nuforc.org/webreports/116/S116228.html  ['My wife and I were on our way to work. She s...   \n",
       "http://www.nuforc.org/webreports/115/S115561.html  ['3 Black Triangular Objects flying silently o...   \n",
       "http://www.nuforc.org/webreports/115/S115416.html  ['Triangle black, no light in any side.  3 or ...   \n",
       "http://www.nuforc.org/webreports/114/S114566.html  ['Three yellow lighted hovered next to my car ...   \n",
       "http://www.nuforc.org/webreports/114/S114570.html  ['Five flashing triangular objects viewed from...   \n",
       "\n",
       "                                                                                         nuforc_note  \\\n",
       "url                                                                                                    \n",
       "http://www.nuforc.org/webreports/116/S116228.html                                                 []   \n",
       "http://www.nuforc.org/webreports/115/S115561.html  [((NUFORC Note:  Witness has been known to our...   \n",
       "http://www.nuforc.org/webreports/115/S115416.html                                                 []   \n",
       "http://www.nuforc.org/webreports/114/S114566.html                                                 []   \n",
       "http://www.nuforc.org/webreports/114/S114570.html                                                 []   \n",
       "\n",
       "                                                  link  \n",
       "url                                                     \n",
       "http://www.nuforc.org/webreports/116/S116228.html   []  \n",
       "http://www.nuforc.org/webreports/115/S115561.html   []  \n",
       "http://www.nuforc.org/webreports/115/S115416.html   []  \n",
       "http://www.nuforc.org/webreports/114/S114566.html   []  \n",
       "http://www.nuforc.org/webreports/114/S114570.html   []  "
      ]
     },
     "execution_count": 171,
     "metadata": {},
     "output_type": "execute_result"
    }
   ],
   "source": [
    "df_15th_full = df_reports.copy()\n",
    "df_15th_full = df_15th_full[(df_15th_full.Occurred.dt.year > 1900)]\n",
    "df_15th_full = df_15th_full[(df_15th_full.Occurred.dt.day == 15)]\n",
    "df_15th_full.head()"
   ]
  },
  {
   "cell_type": "markdown",
   "metadata": {},
   "source": [
    "## Scrapping Air-base, rocket launch locations"
   ]
  },
  {
   "cell_type": "markdown",
   "metadata": {},
   "source": [
    "### Nevermind, Kiru will do it with VIM, too good for me"
   ]
  },
  {
   "cell_type": "markdown",
   "metadata": {},
   "source": [
    "# Getting some weather shit in this place"
   ]
  },
  {
   "cell_type": "code",
   "execution_count": 140,
   "metadata": {},
   "outputs": [
    {
     "name": "stdout",
     "output_type": "stream",
     "text": [
      "StormEvents_details-ftp_v1.0_d1950_c20170120.csv.gz\n",
      "StormEvents_locations-ftp_v1.0_d1996_c20170717.csv.gz\n"
     ]
    }
   ],
   "source": [
    "!ls data/weather/"
   ]
  },
  {
   "cell_type": "code",
   "execution_count": 129,
   "metadata": {},
   "outputs": [],
   "source": [
    "storm_folder = 'data/weather/'"
   ]
  },
  {
   "cell_type": "code",
   "execution_count": 143,
   "metadata": {},
   "outputs": [],
   "source": [
    "storms = pd.read_csv(storm_folder+'StormEvents_details-ftp_v1.0_d1950_c20170120.csv.gz')\n",
    "#storms = pd.read_csv(storm_folder+'StormEvents_locations-ftp_v1.0_d1996_c20170717.csv.gz')"
   ]
  },
  {
   "cell_type": "code",
   "execution_count": 145,
   "metadata": {},
   "outputs": [
    {
     "data": {
      "text/plain": [
       "(223, 51)"
      ]
     },
     "execution_count": 145,
     "metadata": {},
     "output_type": "execute_result"
    }
   ],
   "source": [
    "storms.shape"
   ]
  },
  {
   "cell_type": "code",
   "execution_count": null,
   "metadata": {},
   "outputs": [],
   "source": []
  }
 ],
 "metadata": {
  "kernelspec": {
   "display_name": "Python 3",
   "language": "python",
   "name": "python3"
  },
  "language_info": {
   "codemirror_mode": {
    "name": "ipython",
    "version": 3
   },
   "file_extension": ".py",
   "mimetype": "text/x-python",
   "name": "python",
   "nbconvert_exporter": "python",
   "pygments_lexer": "ipython3",
   "version": "3.7.0"
  }
 },
 "nbformat": 4,
 "nbformat_minor": 2
}
