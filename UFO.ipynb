{
 "cells": [
  {
   "cell_type": "markdown",
   "metadata": {},
   "source": [
    "# UFO"
   ]
  },
  {
   "cell_type": "markdown",
   "metadata": {},
   "source": [
    "#### UFORC (National UFO Reporting Center)  Data"
   ]
  },
  {
   "cell_type": "code",
   "execution_count": 61,
   "metadata": {},
   "outputs": [],
   "source": [
    "import requests\n",
    "import pandas as pd\n",
    "from bs4 import BeautifulSoup"
   ]
  },
  {
   "cell_type": "code",
   "execution_count": 57,
   "metadata": {},
   "outputs": [
    {
     "name": "stderr",
     "output_type": "stream",
     "text": [
      "2018-11-19 16:34:36 [urllib3.connectionpool] DEBUG: Starting new HTTP connection (1): www.nuforc.org:80\n",
      "2018-11-19 16:34:36 [urllib3.connectionpool] DEBUG: http://www.nuforc.org:80 \"GET /webreports/ndxlAK.html HTTP/1.1\" 200 41351\n"
     ]
    }
   ],
   "source": [
    "r = requests.get('http://www.nuforc.org/webreports/ndxlAK.html')"
   ]
  },
  {
   "cell_type": "code",
   "execution_count": 64,
   "metadata": {},
   "outputs": [],
   "source": [
    "soup = BeautifulSoup(r.text, 'html.parser')"
   ]
  },
  {
   "cell_type": "code",
   "execution_count": 65,
   "metadata": {},
   "outputs": [],
   "source": [
    "ufo_sightings = soup.find('tbody')\n",
    "\n",
    "data = []\n",
    "for row in ufo_sightings.findAll(\"tr\"):\n",
    "    cells = row.findAll(\"td\")\n",
    "    maybe_ufo = dict ( \n",
    "        date = cells[0].find('a').text, \n",
    "        City = cells[1].find('font').text,\n",
    "        State = cells[2].find('font').text,\n",
    "        Shape = cells[3].find('font').text,\n",
    "        Duration = cells[4].find('font').text,\n",
    "        Summary = cells[5].find('font').text,\n",
    "        Posted = cells[6].find('font').text,\n",
    "        maybe_ufo = dict(date = date)\n",
    "    )\n",
    "    data.append(maybe_ufo)\n"
   ]
  },
  {
   "cell_type": "code",
   "execution_count": 66,
   "metadata": {},
   "outputs": [],
   "source": [
    "ufo_sightings = pd.DataFrame(data)"
   ]
  },
  {
   "cell_type": "code",
   "execution_count": 67,
   "metadata": {},
   "outputs": [
    {
     "data": {
      "text/html": [
       "<div>\n",
       "<style scoped>\n",
       "    .dataframe tbody tr th:only-of-type {\n",
       "        vertical-align: middle;\n",
       "    }\n",
       "\n",
       "    .dataframe tbody tr th {\n",
       "        vertical-align: top;\n",
       "    }\n",
       "\n",
       "    .dataframe thead th {\n",
       "        text-align: right;\n",
       "    }\n",
       "</style>\n",
       "<table border=\"1\" class=\"dataframe\">\n",
       "  <thead>\n",
       "    <tr style=\"text-align: right;\">\n",
       "      <th></th>\n",
       "      <th>City</th>\n",
       "      <th>Duration</th>\n",
       "      <th>Posted</th>\n",
       "      <th>Shape</th>\n",
       "      <th>State</th>\n",
       "      <th>Summary</th>\n",
       "      <th>date</th>\n",
       "      <th>maybe_ufo</th>\n",
       "    </tr>\n",
       "  </thead>\n",
       "  <tbody>\n",
       "    <tr>\n",
       "      <th>0</th>\n",
       "      <td>Soldotna</td>\n",
       "      <td>5 minutes</td>\n",
       "      <td>11/9/18</td>\n",
       "      <td>Light</td>\n",
       "      <td>AK</td>\n",
       "      <td>Orbs orange red lights.</td>\n",
       "      <td>10/29/18 20:15</td>\n",
       "      <td>{'date': '10/15/36 17:00'}</td>\n",
       "    </tr>\n",
       "    <tr>\n",
       "      <th>1</th>\n",
       "      <td>Soldotna</td>\n",
       "      <td>3 minutes</td>\n",
       "      <td>11/9/18</td>\n",
       "      <td>Fireball</td>\n",
       "      <td>AK</td>\n",
       "      <td>Driving home from work and spotted 2 orange li...</td>\n",
       "      <td>10/29/18 20:15</td>\n",
       "      <td>{'date': '10/15/36 17:00'}</td>\n",
       "    </tr>\n",
       "    <tr>\n",
       "      <th>2</th>\n",
       "      <td>Palmer</td>\n",
       "      <td>10 minutes</td>\n",
       "      <td>10/6/18</td>\n",
       "      <td>Light</td>\n",
       "      <td>AK</td>\n",
       "      <td>((NUFORC Note:  Witness provides no informatio...</td>\n",
       "      <td>9/30/18 06:30</td>\n",
       "      <td>{'date': '10/15/36 17:00'}</td>\n",
       "    </tr>\n",
       "    <tr>\n",
       "      <th>3</th>\n",
       "      <td>Ketchikan</td>\n",
       "      <td>1 minutes</td>\n",
       "      <td>10/6/18</td>\n",
       "      <td>Circle</td>\n",
       "      <td>AK</td>\n",
       "      <td>We just got home from shopping and it's a clea...</td>\n",
       "      <td>9/29/18 20:07</td>\n",
       "      <td>{'date': '10/15/36 17:00'}</td>\n",
       "    </tr>\n",
       "    <tr>\n",
       "      <th>4</th>\n",
       "      <td>Wasilla</td>\n",
       "      <td></td>\n",
       "      <td>6/28/18</td>\n",
       "      <td>Sphere</td>\n",
       "      <td>AK</td>\n",
       "      <td>I see chemtrails often, but have discovered Or...</td>\n",
       "      <td>6/27/18 14:00</td>\n",
       "      <td>{'date': '10/15/36 17:00'}</td>\n",
       "    </tr>\n",
       "  </tbody>\n",
       "</table>\n",
       "</div>"
      ],
      "text/plain": [
       "        City    Duration   Posted     Shape State  \\\n",
       "0   Soldotna   5 minutes  11/9/18     Light    AK   \n",
       "1   Soldotna   3 minutes  11/9/18  Fireball    AK   \n",
       "2     Palmer  10 minutes  10/6/18     Light    AK   \n",
       "3  Ketchikan   1 minutes  10/6/18    Circle    AK   \n",
       "4    Wasilla              6/28/18    Sphere    AK   \n",
       "\n",
       "                                             Summary            date  \\\n",
       "0                            Orbs orange red lights.  10/29/18 20:15   \n",
       "1  Driving home from work and spotted 2 orange li...  10/29/18 20:15   \n",
       "2  ((NUFORC Note:  Witness provides no informatio...   9/30/18 06:30   \n",
       "3  We just got home from shopping and it's a clea...   9/29/18 20:07   \n",
       "4  I see chemtrails often, but have discovered Or...   6/27/18 14:00   \n",
       "\n",
       "                    maybe_ufo  \n",
       "0  {'date': '10/15/36 17:00'}  \n",
       "1  {'date': '10/15/36 17:00'}  \n",
       "2  {'date': '10/15/36 17:00'}  \n",
       "3  {'date': '10/15/36 17:00'}  \n",
       "4  {'date': '10/15/36 17:00'}  "
      ]
     },
     "execution_count": 67,
     "metadata": {},
     "output_type": "execute_result"
    }
   ],
   "source": [
    "ufo_sightings.head()"
   ]
  },
  {
   "cell_type": "code",
   "execution_count": null,
   "metadata": {},
   "outputs": [],
   "source": []
  }
 ],
 "metadata": {
  "kernelspec": {
   "display_name": "Python 3",
   "language": "python",
   "name": "python3"
  },
  "language_info": {
   "codemirror_mode": {
    "name": "ipython",
    "version": 3
   },
   "file_extension": ".py",
   "mimetype": "text/x-python",
   "name": "python",
   "nbconvert_exporter": "python",
   "pygments_lexer": "ipython3",
   "version": "3.6.6"
  }
 },
 "nbformat": 4,
 "nbformat_minor": 2
}
