{
 "cells": [
  {
   "cell_type": "markdown",
   "metadata": {},
   "source": [
    "# UFO"
   ]
  },
  {
   "cell_type": "markdown",
   "metadata": {},
   "source": [
    "#### UFORC (National UFO Reporting Center)  Data"
   ]
  },
  {
   "cell_type": "code",
   "execution_count": 1,
   "metadata": {},
   "outputs": [],
   "source": [
    "import requests\n",
    "import pandas as pd\n",
    "from bs4 import BeautifulSoup"
   ]
  },
  {
   "cell_type": "code",
   "execution_count": 5,
   "metadata": {},
   "outputs": [],
   "source": [
    "r = requests.get('http://www.nuforc.org/webreports/ndxshape.html')"
   ]
  },
  {
   "cell_type": "code",
   "execution_count": 11,
   "metadata": {},
   "outputs": [
    {
     "data": {
      "text/plain": [
       "'http://www.nuforc.org/webreports/ndxs.html'"
      ]
     },
     "execution_count": 11,
     "metadata": {},
     "output_type": "execute_result"
    }
   ],
   "source": [
    "'http://www.nuforc.org/webreports/' + data[0]"
   ]
  },
  {
   "cell_type": "code",
   "execution_count": 6,
   "metadata": {},
   "outputs": [],
   "source": [
    "soup = BeautifulSoup(r.text, 'html.parser')"
   ]
  },
  {
   "cell_type": "code",
   "execution_count": 7,
   "metadata": {},
   "outputs": [],
   "source": [
    "shape_urls_find = soup.find('tbody')\n",
    "data = []\n",
    "for row in shape_urls_find.findAll('tr'):\n",
    "    cells = row.findAll('td')\n",
    "    data.append(cells[0].find('a')['href'])"
   ]
  },
  {
   "cell_type": "code",
   "execution_count": 15,
   "metadata": {},
   "outputs": [
    {
     "data": {
      "text/plain": [
       "'http://www.nuforc.org/webreports/ndxschanged.html'"
      ]
     },
     "execution_count": 15,
     "metadata": {},
     "output_type": "execute_result"
    }
   ],
   "source": [
    "url+data[1]"
   ]
  },
  {
   "cell_type": "code",
   "execution_count": 16,
   "metadata": {},
   "outputs": [],
   "source": [
    "url = 'http://www.nuforc.org/webreports/'\n",
    "list_of_urls = []\n",
    "for html in range(len(data)):\n",
    "    m = requests.get(url+data[html])\n",
    "    soup_url = BeautifulSoup(m.text, 'html.parser')\n",
    "    find_urls = soup_url.find('tbody')\n",
    "    for row in find_urls.findAll('tr'):\n",
    "        cells = row.findAll('td')\n",
    "        list_of_urls.append(cells[0].find('a')['href'])\n",
    "    "
   ]
  },
  {
   "cell_type": "code",
   "execution_count": 22,
   "metadata": {},
   "outputs": [],
   "source": [
    "urls = pd.DataFrame({'url':list_of_urls})"
   ]
  },
  {
   "cell_type": "code",
   "execution_count": 24,
   "metadata": {},
   "outputs": [],
   "source": [
    "urls.to_json(path_or_buf='full_list_of_urls.json')"
   ]
  },
  {
   "cell_type": "code",
   "execution_count": null,
   "metadata": {},
   "outputs": [],
   "source": [
    "ufo_sightings = soup.find('tbody')\n",
    "\n",
    "data = []\n",
    "for row in ufo_sightings.findAll(\"tr\"):\n",
    "    cells = row.findAll(\"td\")\n",
    "    maybe_ufo = dict ( \n",
    "        date = cells[0].find('a').text, \n",
    "        City = cells[1].find('font').text,\n",
    "        State = cells[2].find('font').text,\n",
    "        Shape = cells[3].find('font').text,\n",
    "        Duration = cells[4].find('font').text,\n",
    "        Summary = cells[5].find('font').text,\n",
    "        Posted = cells[6].find('font').text\n",
    "    )\n",
    "    data.append(maybe_ufo)\n"
   ]
  },
  {
   "cell_type": "code",
   "execution_count": null,
   "metadata": {},
   "outputs": [],
   "source": [
    "ufo_sightings = pd.DataFrame(data)"
   ]
  },
  {
   "cell_type": "code",
   "execution_count": null,
   "metadata": {},
   "outputs": [],
   "source": [
    "ufo_sightings"
   ]
  },
  {
   "cell_type": "code",
   "execution_count": null,
   "metadata": {},
   "outputs": [],
   "source": [
    "ufo_sightings.columns"
   ]
  },
  {
   "cell_type": "code",
   "execution_count": null,
   "metadata": {},
   "outputs": [],
   "source": [
    "ufo_sightings.to_json(path_or_buf='ufo_sightings_try.json')"
   ]
  },
  {
   "cell_type": "code",
   "execution_count": null,
   "metadata": {},
   "outputs": [],
   "source": []
  }
 ],
 "metadata": {
  "kernelspec": {
   "display_name": "Python 3",
   "language": "python",
   "name": "python3"
  },
  "language_info": {
   "codemirror_mode": {
    "name": "ipython",
    "version": 3
   },
   "file_extension": ".py",
   "mimetype": "text/x-python",
   "name": "python",
   "nbconvert_exporter": "python",
   "pygments_lexer": "ipython3",
   "version": "3.7.0"
  }
 },
 "nbformat": 4,
 "nbformat_minor": 2
}
